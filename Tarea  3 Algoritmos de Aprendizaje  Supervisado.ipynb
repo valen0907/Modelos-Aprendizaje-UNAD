{
 "cells": [
  {
   "cell_type": "code",
   "execution_count": null,
   "id": "58b09b17-f631-4c5b-8f99-c4fdfe035fe4",
   "metadata": {},
   "outputs": [],
   "source": [
    "# UNAD\n",
    "Angel De Jesus Sepulveda Gonzales\n",
    "Dataset Regresión Logística – Heart Disease Cleveland UCI\n",
    "\n",
    "PASOS DE ACTIVIDAD\n",
    "1 Realizar un análisis exploratorio de los datos para identificar relaciones entre variables, valores atípicos, tendencias, etc.\n",
    "2 Preprocesar los datos limpiándolos, tratando valores faltantes y transformándolos según sea necesario\n",
    "3 Seleccionar las características más relevantes para entrenar el modelo utilizando selección de características\n",
    "4 Dividir el dataset en Train y Test para evaluar correctamente el modelo\n",
    "5Entrenar el modelo configurando los diferentes hiperparámetros\n",
    "6 Evaluar el desempeño del modelo en el conjunto de Test con métricas como precisión, recall, F1-score, etc\n",
    "7 Realizar las diferentes gráficas que permitan visualizar los resultados del modelo.\n",
    "8 Interpretar, analizar y documentar los resultados obtenidos\n",
    "9 Crear una cuenta en GitHub y cargar los códigos de los modelos diseñados \n",
    "\n",
    "Solucion\n",
    "1 Realizar un análisis exploratorio de los datos para identificar relaciones entre variables, valores atípicos, tendencias, etc.\n"
   ]
  },
  {
   "cell_type": "code",
   "execution_count": 3,
   "id": "60a8f9b3-38f5-49f5-ba0e-73ef3cb46681",
   "metadata": {},
   "outputs": [],
   "source": [
    "import pandas as pd # Manejo y análisis de estructuras de datos\n",
    "import numpy as np # Cálculo numérico y el análisis de datos\n",
    "import seaborn as sns # Creación gráficos estadísticos\n",
    "import matplotlib.pyplot as plt # Creación de gráficos en dos dimensiones\n",
    "\n",
    "# librerías de para implementar modelos de ciencia de datos\n",
    "from sklearn import metrics\n",
    "from sklearn.model_selection import train_test_split\n",
    "from sklearn.linear_model import LogisticRegression\n",
    "from sklearn.metrics import classification_report, confusion_matrix\n"
   ]
  },
  {
   "cell_type": "code",
   "execution_count": 15,
   "id": "fbed7c8f-82be-4042-9ad3-6ecd49944a48",
   "metadata": {},
   "outputs": [],
   "source": [
    "Datos = pd.read_csv('C:/Dataset Regresión Logística/heart_cleveland_upload.csv')"
   ]
  },
  {
   "cell_type": "code",
   "execution_count": 17,
   "id": "516e8104-868c-4f58-9294-96ce1aab3f03",
   "metadata": {},
   "outputs": [
    {
     "data": {
      "text/html": [
       "<div>\n",
       "<style scoped>\n",
       "    .dataframe tbody tr th:only-of-type {\n",
       "        vertical-align: middle;\n",
       "    }\n",
       "\n",
       "    .dataframe tbody tr th {\n",
       "        vertical-align: top;\n",
       "    }\n",
       "\n",
       "    .dataframe thead th {\n",
       "        text-align: right;\n",
       "    }\n",
       "</style>\n",
       "<table border=\"1\" class=\"dataframe\">\n",
       "  <thead>\n",
       "    <tr style=\"text-align: right;\">\n",
       "      <th></th>\n",
       "      <th>age</th>\n",
       "      <th>sex</th>\n",
       "      <th>cp</th>\n",
       "      <th>trestbps</th>\n",
       "      <th>chol</th>\n",
       "      <th>fbs</th>\n",
       "      <th>restecg</th>\n",
       "      <th>thalach</th>\n",
       "      <th>exang</th>\n",
       "      <th>oldpeak</th>\n",
       "      <th>slope</th>\n",
       "      <th>ca</th>\n",
       "      <th>thal</th>\n",
       "      <th>condition</th>\n",
       "    </tr>\n",
       "  </thead>\n",
       "  <tbody>\n",
       "    <tr>\n",
       "      <th>0</th>\n",
       "      <td>69</td>\n",
       "      <td>1</td>\n",
       "      <td>0</td>\n",
       "      <td>160</td>\n",
       "      <td>234</td>\n",
       "      <td>1</td>\n",
       "      <td>2</td>\n",
       "      <td>131</td>\n",
       "      <td>0</td>\n",
       "      <td>0.1</td>\n",
       "      <td>1</td>\n",
       "      <td>1</td>\n",
       "      <td>0</td>\n",
       "      <td>0</td>\n",
       "    </tr>\n",
       "    <tr>\n",
       "      <th>1</th>\n",
       "      <td>69</td>\n",
       "      <td>0</td>\n",
       "      <td>0</td>\n",
       "      <td>140</td>\n",
       "      <td>239</td>\n",
       "      <td>0</td>\n",
       "      <td>0</td>\n",
       "      <td>151</td>\n",
       "      <td>0</td>\n",
       "      <td>1.8</td>\n",
       "      <td>0</td>\n",
       "      <td>2</td>\n",
       "      <td>0</td>\n",
       "      <td>0</td>\n",
       "    </tr>\n",
       "    <tr>\n",
       "      <th>2</th>\n",
       "      <td>66</td>\n",
       "      <td>0</td>\n",
       "      <td>0</td>\n",
       "      <td>150</td>\n",
       "      <td>226</td>\n",
       "      <td>0</td>\n",
       "      <td>0</td>\n",
       "      <td>114</td>\n",
       "      <td>0</td>\n",
       "      <td>2.6</td>\n",
       "      <td>2</td>\n",
       "      <td>0</td>\n",
       "      <td>0</td>\n",
       "      <td>0</td>\n",
       "    </tr>\n",
       "    <tr>\n",
       "      <th>3</th>\n",
       "      <td>65</td>\n",
       "      <td>1</td>\n",
       "      <td>0</td>\n",
       "      <td>138</td>\n",
       "      <td>282</td>\n",
       "      <td>1</td>\n",
       "      <td>2</td>\n",
       "      <td>174</td>\n",
       "      <td>0</td>\n",
       "      <td>1.4</td>\n",
       "      <td>1</td>\n",
       "      <td>1</td>\n",
       "      <td>0</td>\n",
       "      <td>1</td>\n",
       "    </tr>\n",
       "    <tr>\n",
       "      <th>4</th>\n",
       "      <td>64</td>\n",
       "      <td>1</td>\n",
       "      <td>0</td>\n",
       "      <td>110</td>\n",
       "      <td>211</td>\n",
       "      <td>0</td>\n",
       "      <td>2</td>\n",
       "      <td>144</td>\n",
       "      <td>1</td>\n",
       "      <td>1.8</td>\n",
       "      <td>1</td>\n",
       "      <td>0</td>\n",
       "      <td>0</td>\n",
       "      <td>0</td>\n",
       "    </tr>\n",
       "    <tr>\n",
       "      <th>5</th>\n",
       "      <td>64</td>\n",
       "      <td>1</td>\n",
       "      <td>0</td>\n",
       "      <td>170</td>\n",
       "      <td>227</td>\n",
       "      <td>0</td>\n",
       "      <td>2</td>\n",
       "      <td>155</td>\n",
       "      <td>0</td>\n",
       "      <td>0.6</td>\n",
       "      <td>1</td>\n",
       "      <td>0</td>\n",
       "      <td>2</td>\n",
       "      <td>0</td>\n",
       "    </tr>\n",
       "    <tr>\n",
       "      <th>6</th>\n",
       "      <td>63</td>\n",
       "      <td>1</td>\n",
       "      <td>0</td>\n",
       "      <td>145</td>\n",
       "      <td>233</td>\n",
       "      <td>1</td>\n",
       "      <td>2</td>\n",
       "      <td>150</td>\n",
       "      <td>0</td>\n",
       "      <td>2.3</td>\n",
       "      <td>2</td>\n",
       "      <td>0</td>\n",
       "      <td>1</td>\n",
       "      <td>0</td>\n",
       "    </tr>\n",
       "    <tr>\n",
       "      <th>7</th>\n",
       "      <td>61</td>\n",
       "      <td>1</td>\n",
       "      <td>0</td>\n",
       "      <td>134</td>\n",
       "      <td>234</td>\n",
       "      <td>0</td>\n",
       "      <td>0</td>\n",
       "      <td>145</td>\n",
       "      <td>0</td>\n",
       "      <td>2.6</td>\n",
       "      <td>1</td>\n",
       "      <td>2</td>\n",
       "      <td>0</td>\n",
       "      <td>1</td>\n",
       "    </tr>\n",
       "    <tr>\n",
       "      <th>8</th>\n",
       "      <td>60</td>\n",
       "      <td>0</td>\n",
       "      <td>0</td>\n",
       "      <td>150</td>\n",
       "      <td>240</td>\n",
       "      <td>0</td>\n",
       "      <td>0</td>\n",
       "      <td>171</td>\n",
       "      <td>0</td>\n",
       "      <td>0.9</td>\n",
       "      <td>0</td>\n",
       "      <td>0</td>\n",
       "      <td>0</td>\n",
       "      <td>0</td>\n",
       "    </tr>\n",
       "    <tr>\n",
       "      <th>9</th>\n",
       "      <td>59</td>\n",
       "      <td>1</td>\n",
       "      <td>0</td>\n",
       "      <td>178</td>\n",
       "      <td>270</td>\n",
       "      <td>0</td>\n",
       "      <td>2</td>\n",
       "      <td>145</td>\n",
       "      <td>0</td>\n",
       "      <td>4.2</td>\n",
       "      <td>2</td>\n",
       "      <td>0</td>\n",
       "      <td>2</td>\n",
       "      <td>0</td>\n",
       "    </tr>\n",
       "  </tbody>\n",
       "</table>\n",
       "</div>"
      ],
      "text/plain": [
       "   age  sex  cp  trestbps  chol  fbs  restecg  thalach  exang  oldpeak  slope  \\\n",
       "0   69    1   0       160   234    1        2      131      0      0.1      1   \n",
       "1   69    0   0       140   239    0        0      151      0      1.8      0   \n",
       "2   66    0   0       150   226    0        0      114      0      2.6      2   \n",
       "3   65    1   0       138   282    1        2      174      0      1.4      1   \n",
       "4   64    1   0       110   211    0        2      144      1      1.8      1   \n",
       "5   64    1   0       170   227    0        2      155      0      0.6      1   \n",
       "6   63    1   0       145   233    1        2      150      0      2.3      2   \n",
       "7   61    1   0       134   234    0        0      145      0      2.6      1   \n",
       "8   60    0   0       150   240    0        0      171      0      0.9      0   \n",
       "9   59    1   0       178   270    0        2      145      0      4.2      2   \n",
       "\n",
       "   ca  thal  condition  \n",
       "0   1     0          0  \n",
       "1   2     0          0  \n",
       "2   0     0          0  \n",
       "3   1     0          1  \n",
       "4   0     0          0  \n",
       "5   0     2          0  \n",
       "6   0     1          0  \n",
       "7   2     0          1  \n",
       "8   0     0          0  \n",
       "9   0     2          0  "
      ]
     },
     "execution_count": 17,
     "metadata": {},
     "output_type": "execute_result"
    }
   ],
   "source": [
    "Datos.head(20)"
   ]
  },
  {
   "cell_type": "code",
   "execution_count": 29,
   "id": "57b466e2-e51d-4714-8576-8c9ecc6244a2",
   "metadata": {},
   "outputs": [
    {
     "data": {
      "text/html": [
       "<div>\n",
       "<style scoped>\n",
       "    .dataframe tbody tr th:only-of-type {\n",
       "        vertical-align: middle;\n",
       "    }\n",
       "\n",
       "    .dataframe tbody tr th {\n",
       "        vertical-align: top;\n",
       "    }\n",
       "\n",
       "    .dataframe thead th {\n",
       "        text-align: right;\n",
       "    }\n",
       "</style>\n",
       "<table border=\"1\" class=\"dataframe\">\n",
       "  <thead>\n",
       "    <tr style=\"text-align: right;\">\n",
       "      <th></th>\n",
       "      <th>age</th>\n",
       "      <th>sex</th>\n",
       "      <th>cp</th>\n",
       "      <th>trestbps</th>\n",
       "      <th>chol</th>\n",
       "      <th>fbs</th>\n",
       "      <th>restecg</th>\n",
       "      <th>thalach</th>\n",
       "      <th>exang</th>\n",
       "      <th>oldpeak</th>\n",
       "      <th>slope</th>\n",
       "      <th>ca</th>\n",
       "      <th>thal</th>\n",
       "      <th>condition</th>\n",
       "    </tr>\n",
       "  </thead>\n",
       "  <tbody>\n",
       "    <tr>\n",
       "      <th>count</th>\n",
       "      <td>297.000000</td>\n",
       "      <td>297.000000</td>\n",
       "      <td>297.000000</td>\n",
       "      <td>297.000000</td>\n",
       "      <td>297.000000</td>\n",
       "      <td>297.000000</td>\n",
       "      <td>297.000000</td>\n",
       "      <td>297.000000</td>\n",
       "      <td>297.000000</td>\n",
       "      <td>297.000000</td>\n",
       "      <td>297.000000</td>\n",
       "      <td>297.000000</td>\n",
       "      <td>297.000000</td>\n",
       "      <td>297.000000</td>\n",
       "    </tr>\n",
       "    <tr>\n",
       "      <th>mean</th>\n",
       "      <td>54.542088</td>\n",
       "      <td>0.676768</td>\n",
       "      <td>2.158249</td>\n",
       "      <td>131.693603</td>\n",
       "      <td>247.350168</td>\n",
       "      <td>0.144781</td>\n",
       "      <td>0.996633</td>\n",
       "      <td>149.599327</td>\n",
       "      <td>0.326599</td>\n",
       "      <td>1.055556</td>\n",
       "      <td>0.602694</td>\n",
       "      <td>0.676768</td>\n",
       "      <td>0.835017</td>\n",
       "      <td>0.461279</td>\n",
       "    </tr>\n",
       "    <tr>\n",
       "      <th>std</th>\n",
       "      <td>9.049736</td>\n",
       "      <td>0.468500</td>\n",
       "      <td>0.964859</td>\n",
       "      <td>17.762806</td>\n",
       "      <td>51.997583</td>\n",
       "      <td>0.352474</td>\n",
       "      <td>0.994914</td>\n",
       "      <td>22.941562</td>\n",
       "      <td>0.469761</td>\n",
       "      <td>1.166123</td>\n",
       "      <td>0.618187</td>\n",
       "      <td>0.938965</td>\n",
       "      <td>0.956690</td>\n",
       "      <td>0.499340</td>\n",
       "    </tr>\n",
       "    <tr>\n",
       "      <th>min</th>\n",
       "      <td>29.000000</td>\n",
       "      <td>0.000000</td>\n",
       "      <td>0.000000</td>\n",
       "      <td>94.000000</td>\n",
       "      <td>126.000000</td>\n",
       "      <td>0.000000</td>\n",
       "      <td>0.000000</td>\n",
       "      <td>71.000000</td>\n",
       "      <td>0.000000</td>\n",
       "      <td>0.000000</td>\n",
       "      <td>0.000000</td>\n",
       "      <td>0.000000</td>\n",
       "      <td>0.000000</td>\n",
       "      <td>0.000000</td>\n",
       "    </tr>\n",
       "    <tr>\n",
       "      <th>25%</th>\n",
       "      <td>48.000000</td>\n",
       "      <td>0.000000</td>\n",
       "      <td>2.000000</td>\n",
       "      <td>120.000000</td>\n",
       "      <td>211.000000</td>\n",
       "      <td>0.000000</td>\n",
       "      <td>0.000000</td>\n",
       "      <td>133.000000</td>\n",
       "      <td>0.000000</td>\n",
       "      <td>0.000000</td>\n",
       "      <td>0.000000</td>\n",
       "      <td>0.000000</td>\n",
       "      <td>0.000000</td>\n",
       "      <td>0.000000</td>\n",
       "    </tr>\n",
       "    <tr>\n",
       "      <th>50%</th>\n",
       "      <td>56.000000</td>\n",
       "      <td>1.000000</td>\n",
       "      <td>2.000000</td>\n",
       "      <td>130.000000</td>\n",
       "      <td>243.000000</td>\n",
       "      <td>0.000000</td>\n",
       "      <td>1.000000</td>\n",
       "      <td>153.000000</td>\n",
       "      <td>0.000000</td>\n",
       "      <td>0.800000</td>\n",
       "      <td>1.000000</td>\n",
       "      <td>0.000000</td>\n",
       "      <td>0.000000</td>\n",
       "      <td>0.000000</td>\n",
       "    </tr>\n",
       "    <tr>\n",
       "      <th>75%</th>\n",
       "      <td>61.000000</td>\n",
       "      <td>1.000000</td>\n",
       "      <td>3.000000</td>\n",
       "      <td>140.000000</td>\n",
       "      <td>276.000000</td>\n",
       "      <td>0.000000</td>\n",
       "      <td>2.000000</td>\n",
       "      <td>166.000000</td>\n",
       "      <td>1.000000</td>\n",
       "      <td>1.600000</td>\n",
       "      <td>1.000000</td>\n",
       "      <td>1.000000</td>\n",
       "      <td>2.000000</td>\n",
       "      <td>1.000000</td>\n",
       "    </tr>\n",
       "    <tr>\n",
       "      <th>max</th>\n",
       "      <td>77.000000</td>\n",
       "      <td>1.000000</td>\n",
       "      <td>3.000000</td>\n",
       "      <td>200.000000</td>\n",
       "      <td>564.000000</td>\n",
       "      <td>1.000000</td>\n",
       "      <td>2.000000</td>\n",
       "      <td>202.000000</td>\n",
       "      <td>1.000000</td>\n",
       "      <td>6.200000</td>\n",
       "      <td>2.000000</td>\n",
       "      <td>3.000000</td>\n",
       "      <td>2.000000</td>\n",
       "      <td>1.000000</td>\n",
       "    </tr>\n",
       "  </tbody>\n",
       "</table>\n",
       "</div>"
      ],
      "text/plain": [
       "              age         sex          cp    trestbps        chol         fbs  \\\n",
       "count  297.000000  297.000000  297.000000  297.000000  297.000000  297.000000   \n",
       "mean    54.542088    0.676768    2.158249  131.693603  247.350168    0.144781   \n",
       "std      9.049736    0.468500    0.964859   17.762806   51.997583    0.352474   \n",
       "min     29.000000    0.000000    0.000000   94.000000  126.000000    0.000000   \n",
       "25%     48.000000    0.000000    2.000000  120.000000  211.000000    0.000000   \n",
       "50%     56.000000    1.000000    2.000000  130.000000  243.000000    0.000000   \n",
       "75%     61.000000    1.000000    3.000000  140.000000  276.000000    0.000000   \n",
       "max     77.000000    1.000000    3.000000  200.000000  564.000000    1.000000   \n",
       "\n",
       "          restecg     thalach       exang     oldpeak       slope          ca  \\\n",
       "count  297.000000  297.000000  297.000000  297.000000  297.000000  297.000000   \n",
       "mean     0.996633  149.599327    0.326599    1.055556    0.602694    0.676768   \n",
       "std      0.994914   22.941562    0.469761    1.166123    0.618187    0.938965   \n",
       "min      0.000000   71.000000    0.000000    0.000000    0.000000    0.000000   \n",
       "25%      0.000000  133.000000    0.000000    0.000000    0.000000    0.000000   \n",
       "50%      1.000000  153.000000    0.000000    0.800000    1.000000    0.000000   \n",
       "75%      2.000000  166.000000    1.000000    1.600000    1.000000    1.000000   \n",
       "max      2.000000  202.000000    1.000000    6.200000    2.000000    3.000000   \n",
       "\n",
       "             thal   condition  \n",
       "count  297.000000  297.000000  \n",
       "mean     0.835017    0.461279  \n",
       "std      0.956690    0.499340  \n",
       "min      0.000000    0.000000  \n",
       "25%      0.000000    0.000000  \n",
       "50%      0.000000    0.000000  \n",
       "75%      2.000000    1.000000  \n",
       "max      2.000000    1.000000  "
      ]
     },
     "execution_count": 29,
     "metadata": {},
     "output_type": "execute_result"
    }
   ],
   "source": [
    "# Descripción de los datos\n",
    "Datos.describe()"
   ]
  },
  {
   "cell_type": "code",
   "execution_count": 54,
   "id": "00ccabc7-16fe-4159-b95c-1c94babb88f9",
   "metadata": {},
   "outputs": [
    {
     "data": {
      "text/plain": [
       "Text(0.5, 1.0, 'Identificación de Datos Faltantes y Atípicos')"
      ]
     },
     "execution_count": 54,
     "metadata": {},
     "output_type": "execute_result"
    },
    {
     "data": {
      "image/png": "[encoded data removed]",
      "text/plain": [
       "<Figure size 600x300 with 1 Axes>"
      ]
     },
     "metadata": {},
     "output_type": "display_data"
    }
   ],
   "source": [
    "#Identificación de Datos Faltantes y Atípicos\n",
    "\n",
    "plt.figure(figsize=(6, 3))\n",
    "sns.boxplot(x=Datos['chol'])\n",
    "plt.title('Identificación de Datos Faltantes y Atípicos', fontsize=10 )"
   ]
  },
  {
   "cell_type": "code",
   "execution_count": 31,
   "id": "fa2235b1-5768-4692-9ee5-2be1484a6c4a",
   "metadata": {},
   "outputs": [
    {
     "data": {
      "text/plain": [
       "Text(0.5, 1.0, 'Identificación de Datos Faltantes y Atípicos')"
      ]
     },
     "execution_count": 31,
     "metadata": {},
     "output_type": "execute_result"
    },
    {
     "data": {
      "image/png": "[encoded data removed]",
      "text/plain": [
       "<Figure size 600x300 with 1 Axes>"
      ]
     },
     "metadata": {},
     "output_type": "display_data"
    }
   ],
   "source": [
    "#Identificación de Datos Faltantes y Atípicos\n",
    "plt.figure(figsize=(6, 3))\n",
    "sns.boxplot(x=Datos['age'])\n",
    "plt.title('Identificación de Datos Faltantes y Atípicos', fontsize=10 )"
   ]
  },
  {
   "cell_type": "code",
   "execution_count": 35,
   "id": "a14de119-7100-43e9-91e7-3d0d0e5343e8",
   "metadata": {},
   "outputs": [
    {
     "data": {
      "text/plain": [
       "Text(0.5, 1.0, 'Identificación de Datos Faltantes y Atípicos')"
      ]
     },
     "execution_count": 35,
     "metadata": {},
     "output_type": "execute_result"
    },
    {
     "data": {
      "image/png": "[encoded data removed]",
      "text/plain": [
       "<Figure size 600x300 with 1 Axes>"
      ]
     },
     "metadata": {},
     "output_type": "display_data"
    }
   ],
   "source": [
    "#Identificación de Datos Faltantes y Atípicos\n",
    "\n",
    "plt.figure(figsize=(6, 3))\n",
    "sns.boxplot(x=Datos['cp'])\n",
    "plt.title('Identificación de Datos Faltantes y Atípicos', fontsize=10 )"
   ]
  },
  {
   "cell_type": "code",
   "execution_count": null,
   "id": "694da628-fdb9-4597-8c68-92209799681c",
   "metadata": {},
   "outputs": [],
   "source": [
    "2. Preprocesar los datos limpiándolos, tratando valores faltantes y transformándolos según sea necesario\n"
   ]
  },
  {
   "cell_type": "code",
   "execution_count": 62,
   "id": "2e29f7c7-c017-487b-9a9a-b61581146ee6",
   "metadata": {},
   "outputs": [
    {
     "name": "stdout",
     "output_type": "stream",
     "text": [
      "Cantidad de Registros con cero en fbs glucemia en ayunas:  254\n",
      "Cantidad de Registros con cero en exang angina inducida por el ejercicio:  200\n",
      "Cantidad de Registros con cero en cp tipo de dolor toracico:  23\n"
     ]
    }
   ],
   "source": [
    "#Revisión de datos faltantes\n",
    "\n",
    "print(\"Cantidad de Registros con cero en fbs glucemia en ayunas: \",Datos['fbs'].isin([0]).sum())\n",
    "print(\"Cantidad de Registros con cero en exang angina inducida por el ejercicio: \",Datos['exang'].isin([0]).sum())\n",
    "print(\"Cantidad de Registros con cero en cp tipo de dolor toracico: \",Datos['cp'].isin([0]).sum())"
   ]
  },
  {
   "cell_type": "code",
   "execution_count": 64,
   "id": "5eb5bbcf-5660-49c2-a749-db79ebb5a5cb",
   "metadata": {},
   "outputs": [],
   "source": [
    "# Reemplazar todos los ceros con el valor medio (promedio) de la columna.\n",
    "\n",
    "Datos['fbs']=Datos['fbs'].replace(0,Datos['fbs'].mean())\n",
    "Datos['exang']=Datos['exang'].replace(0,Datos['exang'].mean())\n",
    "Datos['cp']=Datos['cp'].replace(0,Datos['cp'].mean())\n"
   ]
  },
  {
   "cell_type": "code",
   "execution_count": 66,
   "id": "2842a9bf-9140-49e5-88e4-0a7de86d95e8",
   "metadata": {},
   "outputs": [
    {
     "name": "stdout",
     "output_type": "stream",
     "text": [
      "Cantidad de Registros con cero en fbs glucemia en ayunas:  0\n",
      "Cantidad de Registros con cero en exang angina inducida por el ejercicio:  0\n",
      "Cantidad de Registros con cero en cp tipo de dolor toracico:  0\n"
     ]
    }
   ],
   "source": [
    "print(\"Cantidad de Registros con cero en fbs glucemia en ayunas: \",Datos['fbs'].isin([0]).sum())\n",
    "print(\"Cantidad de Registros con cero en exang angina inducida por el ejercicio: \",Datos['exang'].isin([0]).sum())\n",
    "print(\"Cantidad de Registros con cero en cp tipo de dolor toracico: \",Datos['cp'].isin([0]).sum())\n"
   ]
  },
  {
   "cell_type": "code",
   "execution_count": 72,
   "id": "a77ed5f9-755e-4e30-bbf9-8083002853d2",
   "metadata": {},
   "outputs": [
    {
     "data": {
      "text/plain": [
       "Text(0.5, 1.0, 'Identificación de Datos Atípicos')"
      ]
     },
     "execution_count": 72,
     "metadata": {},
     "output_type": "execute_result"
    },
    {
     "data": {
      "image/png": "[encoded data removed]",
      "text/plain": [
       "<Figure size 600x300 with 1 Axes>"
      ]
     },
     "metadata": {},
     "output_type": "display_data"
    }
   ],
   "source": [
    "plt.figure(figsize=(6, 3))\n",
    "sns.boxplot(x=Datos['cp'])\n",
    "plt.title('Identificación de Datos Atípicos', fontsize=10 )"
   ]
  },
  {
   "cell_type": "code",
   "execution_count": 74,
   "id": "ad7f38e1-1818-4bdf-af20-0b9d856973ba",
   "metadata": {},
   "outputs": [
    {
     "name": "stdout",
     "output_type": "stream",
     "text": [
      "El total de datos atípicos es 49\n"
     ]
    }
   ],
   "source": [
    "#Conteo de Datos Atípicos\n",
    "\n",
    "nivel_minimo=1.70\n",
    "nivel_maximo=3.00\n",
    "Total_Atipicos=((Datos['cp']<nivel_minimo)|(Datos['cp']>nivel_maximo)).sum()\n",
    "print(\"El total de datos atípicos es {}\".format(Total_Atipicos))"
   ]
  },
  {
   "cell_type": "code",
   "execution_count": 78,
   "id": "eaaf769a-0865-4548-a483-3ec6dc9ef92b",
   "metadata": {},
   "outputs": [],
   "source": [
    "# Filtra Datos Atípicos\n",
    "\n",
    "Datos=Datos[(Datos['cp']<nivel_maximo)&(Datos['cp']>nivel_minimo)]"
   ]
  },
  {
   "cell_type": "code",
   "execution_count": 80,
   "id": "e31b246c-8439-4f55-9102-1058862f23cd",
   "metadata": {},
   "outputs": [
    {
     "name": "stdout",
     "output_type": "stream",
     "text": [
      "El total de datos atípicos es 0\n"
     ]
    }
   ],
   "source": [
    "\n",
    "# Validar si se removieron los datos atípicos\n",
    "\n",
    "Total_Atipicos=((Datos['cp']<nivel_minimo)|(Datos['cp']>nivel_maximo)).sum()\n",
    "print(\"El total de datos atípicos es {}\".format(Total_Atipicos))"
   ]
  },
  {
   "cell_type": "code",
   "execution_count": 82,
   "id": "d56824a8-6a1c-4d95-8b89-19b0295f6b03",
   "metadata": {},
   "outputs": [
    {
     "name": "stdout",
     "output_type": "stream",
     "text": [
      "<class 'pandas.core.frame.DataFrame'>\n",
      "Index: 106 entries, 0 to 154\n",
      "Data columns (total 14 columns):\n",
      " #   Column     Non-Null Count  Dtype  \n",
      "---  ------     --------------  -----  \n",
      " 0   age        106 non-null    int64  \n",
      " 1   sex        106 non-null    int64  \n",
      " 2   cp         106 non-null    float64\n",
      " 3   trestbps   106 non-null    int64  \n",
      " 4   chol       106 non-null    int64  \n",
      " 5   fbs        106 non-null    float64\n",
      " 6   restecg    106 non-null    int64  \n",
      " 7   thalach    106 non-null    int64  \n",
      " 8   exang      106 non-null    float64\n",
      " 9   oldpeak    106 non-null    float64\n",
      " 10  slope      106 non-null    int64  \n",
      " 11  ca         106 non-null    int64  \n",
      " 12  thal       106 non-null    int64  \n",
      " 13  condition  106 non-null    int64  \n",
      "dtypes: float64(4), int64(10)\n",
      "memory usage: 12.4 KB\n"
     ]
    }
   ],
   "source": [
    "#Revisión del tipo de datos y datos faltantes\n",
    "\n",
    "Datos.info()"
   ]
  },
  {
   "cell_type": "code",
   "execution_count": null,
   "id": "d1db3636-5aa8-4541-8502-b71e2c4bc013",
   "metadata": {},
   "outputs": [],
   "source": [
    "3.Seleccionar las características más relevantes para entrenar el modelo utilizando selección de características\n",
    "Característica de interes:\n",
    "\n",
    "Diabetico: si la persona tiene diabetes o no (0 = no tiene diabetes - 1 = si tiene diabetes)\n",
    "Predecir si una persona puede tener diabetes"
   ]
  },
  {
   "cell_type": "code",
   "execution_count": 130,
   "id": "6288d3cf-5798-4d78-abb6-49e44c90f480",
   "metadata": {},
   "outputs": [
    {
     "data": {
      "text/plain": [
       "thal\n",
       "0    72\n",
       "2    30\n",
       "1     4\n",
       "Name: count, dtype: int64"
      ]
     },
     "execution_count": 130,
     "metadata": {},
     "output_type": "execute_result"
    }
   ],
   "source": [
    "# Total de personas con tipo de dolor toracico\n",
    "\n",
    "Datos['thal'].value_counts()"
   ]
  },
  {
   "cell_type": "code",
   "execution_count": null,
   "id": "a5a755b9-85f2-4747-b462-8640549485b0",
   "metadata": {},
   "outputs": [],
   "source": [
    "4. Dividir el dataset en Train y Test para evaluar correctamente el modelo"
   ]
  },
  {
   "cell_type": "code",
   "execution_count": 132,
   "id": "f6f1e05a-c962-4808-80b5-9e3ee521ef7c",
   "metadata": {},
   "outputs": [],
   "source": [
    "# Porcentaje de datos para entrenamiento (train) = 70% , y para prueba (test) = 30%\n",
    "\n",
    "# Se crean variables X y Y para almacenar la información del entrenamiento\n",
    "\n",
    "X = Datos.drop('thal',axis=1) # Se cargan los datos de train sin los datos de la columna Diabetico \n",
    "Y = Datos['thal'] # Se cargan los datos de train con los datos de la la columna Diabetico\n",
    "\n",
    "#La función train_test_split crea una división de un conjunto de datos en dos bloques uno de entrenamiento y otro de prueba (train and test)\n",
    "X_train, X_test, Y_train, Y_test = train_test_split(X, Y, test_size=0.25, stratify=Y, random_state= 0)"
   ]
  },
  {
   "cell_type": "code",
   "execution_count": 136,
   "id": "47f76d7f-1fd0-4efd-907b-187ff877972d",
   "metadata": {},
   "outputs": [
    {
     "name": "stdout",
     "output_type": "stream",
     "text": [
      "     age  sex   cp  trestbps  chol       fbs  restecg  thalach     exang  \\\n",
      "85    65    0  2.0       160   360  0.144781        2      151  0.326599   \n",
      "82    66    0  2.0       146   278  0.144781        2      152  0.326599   \n",
      "137   44    0  2.0       108   141  0.144781        0      175  0.326599   \n",
      "141   44    1  2.0       120   226  0.144781        0      169  0.326599   \n",
      "111   54    1  2.0       150   232  0.144781        2      165  0.326599   \n",
      "..   ...  ...  ...       ...   ...       ...      ...      ...       ...   \n",
      "73    71    0  2.0       110   265  1.000000        2      130  0.326599   \n",
      "84    65    0  2.0       155   269  0.144781        0      148  0.326599   \n",
      "115   53    1  2.0       130   246  1.000000        2      173  0.326599   \n",
      "95    60    0  2.0       120   178  1.000000        0       96  0.326599   \n",
      "98    58    1  2.0       112   230  0.144781        2      165  0.326599   \n",
      "\n",
      "     oldpeak  slope  ca  condition  \n",
      "85       0.8      0   0          0  \n",
      "82       0.0      1   1          0  \n",
      "137      0.6      1   0          0  \n",
      "141      0.0      0   0          0  \n",
      "111      1.6      0   0          0  \n",
      "..       ...    ...  ..        ...  \n",
      "73       0.0      0   1          0  \n",
      "84       0.8      0   0          0  \n",
      "115      0.0      0   3          0  \n",
      "95       0.0      0   0          0  \n",
      "98       2.5      1   1          1  \n",
      "\n",
      "[79 rows x 13 columns]\n"
     ]
    }
   ],
   "source": [
    "print (X_train)"
   ]
  },
  {
   "cell_type": "code",
   "execution_count": 138,
   "id": "3e1ba731-4b4a-4612-b1ec-5ba3d7caa0ac",
   "metadata": {},
   "outputs": [
    {
     "name": "stdout",
     "output_type": "stream",
     "text": [
      "     age  sex        cp  trestbps  chol       fbs  restecg  thalach     exang  \\\n",
      "150   39    0  2.000000       138   220  0.144781        0      152  0.326599   \n",
      "1     69    0  2.158249       140   239  0.144781        0      151  0.326599   \n",
      "22    34    1  2.158249       118   182  0.144781        2      174  0.326599   \n",
      "106   56    1  2.000000       130   256  1.000000        2      142  1.000000   \n",
      "103   57    1  2.000000       128   229  0.144781        2      150  0.326599   \n",
      "78    68    1  2.000000       118   277  0.144781        0      151  0.326599   \n",
      "114   53    1  2.000000       130   197  1.000000        2      152  0.326599   \n",
      "124   51    0  2.000000       120   295  0.144781        2      157  0.326599   \n",
      "117   52    1  2.000000       172   199  1.000000        0      162  0.326599   \n",
      "129   49    1  2.000000       118   149  0.144781        2      126  0.326599   \n",
      "13    58    0  2.158249       150   283  1.000000        2      162  0.326599   \n",
      "87    64    1  2.000000       140   335  0.144781        0      158  0.326599   \n",
      "79    67    0  2.000000       115   564  0.144781        2      160  0.326599   \n",
      "14    56    1  2.158249       120   193  0.144781        2      162  0.326599   \n",
      "116   52    0  2.000000       136   196  0.144781        2      169  0.326599   \n",
      "92    61    1  2.000000       150   243  1.000000        0      137  1.000000   \n",
      "147   41    1  2.000000       130   214  0.144781        2      168  0.326599   \n",
      "93    60    1  2.000000       140   185  0.144781        2      155  0.326599   \n",
      "151   39    1  2.000000       140   321  0.144781        2      182  0.326599   \n",
      "143   43    1  2.000000       130   315  0.144781        0      162  0.326599   \n",
      "140   44    1  2.000000       140   235  0.144781        2      180  0.326599   \n",
      "146   42    1  2.000000       130   180  0.144781        0      150  0.326599   \n",
      "8     60    0  2.158249       150   240  0.144781        0      171  0.326599   \n",
      "118   51    1  2.000000       100   222  0.144781        0      143  1.000000   \n",
      "16    52    1  2.158249       152   298  1.000000        0      178  0.326599   \n",
      "100   58    1  2.000000       132   224  0.144781        2      173  0.326599   \n",
      "76    68    1  2.000000       180   274  1.000000        2      150  1.000000   \n",
      "\n",
      "     oldpeak  slope  ca  condition  \n",
      "150      0.0      1   0          0  \n",
      "1        1.8      0   2          0  \n",
      "22       0.0      0   0          0  \n",
      "106      0.6      1   1          1  \n",
      "103      0.4      1   1          1  \n",
      "78       1.0      0   1          0  \n",
      "114      1.2      2   0          0  \n",
      "124      0.6      0   0          0  \n",
      "117      0.5      0   0          0  \n",
      "129      0.8      0   3          1  \n",
      "13       1.0      0   0          0  \n",
      "87       0.0      0   0          1  \n",
      "79       1.6      1   0          0  \n",
      "14       1.9      1   0          0  \n",
      "116      0.1      1   0          0  \n",
      "92       1.0      1   0          0  \n",
      "147      2.0      1   0          0  \n",
      "93       3.0      1   0          1  \n",
      "151      0.0      0   0          0  \n",
      "143      1.9      0   1          0  \n",
      "140      0.0      0   0          0  \n",
      "146      0.0      0   0          0  \n",
      "8        0.9      0   0          0  \n",
      "118      1.2      1   0          0  \n",
      "16       1.2      1   0          0  \n",
      "100      3.2      0   2          1  \n",
      "76       1.6      1   0          1  \n"
     ]
    }
   ],
   "source": [
    "print (X_test)"
   ]
  },
  {
   "cell_type": "code",
   "execution_count": null,
   "id": "c71c23f8-92d4-4caa-b0af-e558412558b3",
   "metadata": {},
   "outputs": [],
   "source": [
    "5. Entrenar el modelo configurando los diferentes hiperparámetros\n"
   ]
  },
  {
   "cell_type": "code",
   "execution_count": 140,
   "id": "870f4563-02d8-45b1-9b60-d4c4fee28625",
   "metadata": {},
   "outputs": [],
   "source": [
    "# Construir el modelo de regresión logística \n",
    "\n",
    "modelo_regresion = LogisticRegression(solver = \"liblinear\") # liblinear es una libreria para resolver problemas lineales de clasificación y regresión\n",
    "modelo_regresion.fit (X_train , Y_train)   \n",
    "\n",
    "# Crea el modelo de prediccion\n",
    "Prediccion = modelo_regresion.predict(X_test) # la función predict predice los valores a partir del conjunto de datos de validación"
   ]
  },
  {
   "cell_type": "code",
   "execution_count": 142,
   "id": "a624ce35-b875-47b7-aeb6-24ed3585721d",
   "metadata": {},
   "outputs": [
    {
     "data": {
      "text/html": [
       "<div>\n",
       "<style scoped>\n",
       "    .dataframe tbody tr th:only-of-type {\n",
       "        vertical-align: middle;\n",
       "    }\n",
       "\n",
       "    .dataframe tbody tr th {\n",
       "        vertical-align: top;\n",
       "    }\n",
       "\n",
       "    .dataframe thead th {\n",
       "        text-align: right;\n",
       "    }\n",
       "</style>\n",
       "<table border=\"1\" class=\"dataframe\">\n",
       "  <thead>\n",
       "    <tr style=\"text-align: right;\">\n",
       "      <th></th>\n",
       "      <th>age</th>\n",
       "      <th>sex</th>\n",
       "      <th>cp</th>\n",
       "      <th>trestbps</th>\n",
       "      <th>chol</th>\n",
       "      <th>fbs</th>\n",
       "      <th>restecg</th>\n",
       "      <th>thalach</th>\n",
       "      <th>exang</th>\n",
       "      <th>oldpeak</th>\n",
       "      <th>slope</th>\n",
       "      <th>ca</th>\n",
       "      <th>condition</th>\n",
       "    </tr>\n",
       "  </thead>\n",
       "  <tbody>\n",
       "    <tr>\n",
       "      <th>150</th>\n",
       "      <td>39</td>\n",
       "      <td>0</td>\n",
       "      <td>2.000000</td>\n",
       "      <td>138</td>\n",
       "      <td>220</td>\n",
       "      <td>0.144781</td>\n",
       "      <td>0</td>\n",
       "      <td>152</td>\n",
       "      <td>0.326599</td>\n",
       "      <td>0.0</td>\n",
       "      <td>1</td>\n",
       "      <td>0</td>\n",
       "      <td>0</td>\n",
       "    </tr>\n",
       "    <tr>\n",
       "      <th>1</th>\n",
       "      <td>69</td>\n",
       "      <td>0</td>\n",
       "      <td>2.158249</td>\n",
       "      <td>140</td>\n",
       "      <td>239</td>\n",
       "      <td>0.144781</td>\n",
       "      <td>0</td>\n",
       "      <td>151</td>\n",
       "      <td>0.326599</td>\n",
       "      <td>1.8</td>\n",
       "      <td>0</td>\n",
       "      <td>2</td>\n",
       "      <td>0</td>\n",
       "    </tr>\n",
       "    <tr>\n",
       "      <th>22</th>\n",
       "      <td>34</td>\n",
       "      <td>1</td>\n",
       "      <td>2.158249</td>\n",
       "      <td>118</td>\n",
       "      <td>182</td>\n",
       "      <td>0.144781</td>\n",
       "      <td>2</td>\n",
       "      <td>174</td>\n",
       "      <td>0.326599</td>\n",
       "      <td>0.0</td>\n",
       "      <td>0</td>\n",
       "      <td>0</td>\n",
       "      <td>0</td>\n",
       "    </tr>\n",
       "    <tr>\n",
       "      <th>106</th>\n",
       "      <td>56</td>\n",
       "      <td>1</td>\n",
       "      <td>2.000000</td>\n",
       "      <td>130</td>\n",
       "      <td>256</td>\n",
       "      <td>1.000000</td>\n",
       "      <td>2</td>\n",
       "      <td>142</td>\n",
       "      <td>1.000000</td>\n",
       "      <td>0.6</td>\n",
       "      <td>1</td>\n",
       "      <td>1</td>\n",
       "      <td>1</td>\n",
       "    </tr>\n",
       "    <tr>\n",
       "      <th>103</th>\n",
       "      <td>57</td>\n",
       "      <td>1</td>\n",
       "      <td>2.000000</td>\n",
       "      <td>128</td>\n",
       "      <td>229</td>\n",
       "      <td>0.144781</td>\n",
       "      <td>2</td>\n",
       "      <td>150</td>\n",
       "      <td>0.326599</td>\n",
       "      <td>0.4</td>\n",
       "      <td>1</td>\n",
       "      <td>1</td>\n",
       "      <td>1</td>\n",
       "    </tr>\n",
       "    <tr>\n",
       "      <th>78</th>\n",
       "      <td>68</td>\n",
       "      <td>1</td>\n",
       "      <td>2.000000</td>\n",
       "      <td>118</td>\n",
       "      <td>277</td>\n",
       "      <td>0.144781</td>\n",
       "      <td>0</td>\n",
       "      <td>151</td>\n",
       "      <td>0.326599</td>\n",
       "      <td>1.0</td>\n",
       "      <td>0</td>\n",
       "      <td>1</td>\n",
       "      <td>0</td>\n",
       "    </tr>\n",
       "    <tr>\n",
       "      <th>114</th>\n",
       "      <td>53</td>\n",
       "      <td>1</td>\n",
       "      <td>2.000000</td>\n",
       "      <td>130</td>\n",
       "      <td>197</td>\n",
       "      <td>1.000000</td>\n",
       "      <td>2</td>\n",
       "      <td>152</td>\n",
       "      <td>0.326599</td>\n",
       "      <td>1.2</td>\n",
       "      <td>2</td>\n",
       "      <td>0</td>\n",
       "      <td>0</td>\n",
       "    </tr>\n",
       "    <tr>\n",
       "      <th>124</th>\n",
       "      <td>51</td>\n",
       "      <td>0</td>\n",
       "      <td>2.000000</td>\n",
       "      <td>120</td>\n",
       "      <td>295</td>\n",
       "      <td>0.144781</td>\n",
       "      <td>2</td>\n",
       "      <td>157</td>\n",
       "      <td>0.326599</td>\n",
       "      <td>0.6</td>\n",
       "      <td>0</td>\n",
       "      <td>0</td>\n",
       "      <td>0</td>\n",
       "    </tr>\n",
       "    <tr>\n",
       "      <th>117</th>\n",
       "      <td>52</td>\n",
       "      <td>1</td>\n",
       "      <td>2.000000</td>\n",
       "      <td>172</td>\n",
       "      <td>199</td>\n",
       "      <td>1.000000</td>\n",
       "      <td>0</td>\n",
       "      <td>162</td>\n",
       "      <td>0.326599</td>\n",
       "      <td>0.5</td>\n",
       "      <td>0</td>\n",
       "      <td>0</td>\n",
       "      <td>0</td>\n",
       "    </tr>\n",
       "    <tr>\n",
       "      <th>129</th>\n",
       "      <td>49</td>\n",
       "      <td>1</td>\n",
       "      <td>2.000000</td>\n",
       "      <td>118</td>\n",
       "      <td>149</td>\n",
       "      <td>0.144781</td>\n",
       "      <td>2</td>\n",
       "      <td>126</td>\n",
       "      <td>0.326599</td>\n",
       "      <td>0.8</td>\n",
       "      <td>0</td>\n",
       "      <td>3</td>\n",
       "      <td>1</td>\n",
       "    </tr>\n",
       "  </tbody>\n",
       "</table>\n",
       "</div>"
      ],
      "text/plain": [
       "     age  sex        cp  trestbps  chol       fbs  restecg  thalach     exang  \\\n",
       "150   39    0  2.000000       138   220  0.144781        0      152  0.326599   \n",
       "1     69    0  2.158249       140   239  0.144781        0      151  0.326599   \n",
       "22    34    1  2.158249       118   182  0.144781        2      174  0.326599   \n",
       "106   56    1  2.000000       130   256  1.000000        2      142  1.000000   \n",
       "103   57    1  2.000000       128   229  0.144781        2      150  0.326599   \n",
       "78    68    1  2.000000       118   277  0.144781        0      151  0.326599   \n",
       "114   53    1  2.000000       130   197  1.000000        2      152  0.326599   \n",
       "124   51    0  2.000000       120   295  0.144781        2      157  0.326599   \n",
       "117   52    1  2.000000       172   199  1.000000        0      162  0.326599   \n",
       "129   49    1  2.000000       118   149  0.144781        2      126  0.326599   \n",
       "\n",
       "     oldpeak  slope  ca  condition  \n",
       "150      0.0      1   0          0  \n",
       "1        1.8      0   2          0  \n",
       "22       0.0      0   0          0  \n",
       "106      0.6      1   1          1  \n",
       "103      0.4      1   1          1  \n",
       "78       1.0      0   1          0  \n",
       "114      1.2      2   0          0  \n",
       "124      0.6      0   0          0  \n",
       "117      0.5      0   0          0  \n",
       "129      0.8      0   3          1  "
      ]
     },
     "execution_count": 142,
     "metadata": {},
     "output_type": "execute_result"
    }
   ],
   "source": [
    "X_test.head(10)"
   ]
  },
  {
   "cell_type": "code",
   "execution_count": 144,
   "id": "8a4fb24d-2409-47ca-8cb4-fa51c79292d6",
   "metadata": {},
   "outputs": [
    {
     "name": "stdout",
     "output_type": "stream",
     "text": [
      "[0 0 0 2 2 0 1 0 0 2 0 0 0 0 0 2 0 2 0 0 0 0 0 2 0 0 2]\n"
     ]
    }
   ],
   "source": [
    "\n",
    "print (Prediccion)"
   ]
  },
  {
   "cell_type": "code",
   "execution_count": null,
   "id": "3b2d9166-39e7-4f92-8a07-0e37fed9cb41",
   "metadata": {},
   "outputs": [],
   "source": [
    "6. Evaluar el desempeño del modelo en el conjunto de Test con métricas\n",
    "como precisión, recall, F1-score, etc"
   ]
  },
  {
   "cell_type": "code",
   "execution_count": 146,
   "id": "7164c351-a518-416c-ac01-0559c1fed30b",
   "metadata": {},
   "outputs": [
    {
     "name": "stdout",
     "output_type": "stream",
     "text": [
      "              precision    recall  f1-score   support\n",
      "\n",
      "           0       0.68      0.72      0.70        18\n",
      "           1       0.00      0.00      0.00         1\n",
      "           2       0.29      0.25      0.27         8\n",
      "\n",
      "    accuracy                           0.56        27\n",
      "   macro avg       0.32      0.32      0.32        27\n",
      "weighted avg       0.54      0.56      0.55        27\n",
      "\n"
     ]
    }
   ],
   "source": [
    "# Desempeño del modelo de regresión\n",
    "\n",
    "print(classification_report(Y_test,Prediccion))"
   ]
  },
  {
   "cell_type": "code",
   "execution_count": null,
   "id": "67c62ae0-fb4a-4800-9d03-e189b60e694b",
   "metadata": {},
   "outputs": [],
   "source": [
    "7. Realizar las diferentes gráficas que permitan visualizar los resultados del modelo"
   ]
  },
  {
   "cell_type": "code",
   "execution_count": 148,
   "id": "cd119d64-58fa-48fd-87d0-295fd1bc53d3",
   "metadata": {},
   "outputs": [
    {
     "data": {
      "text/plain": [
       "<sklearn.metrics._plot.confusion_matrix.ConfusionMatrixDisplay at 0x21f1795ebd0>"
      ]
     },
     "execution_count": 148,
     "metadata": {},
     "output_type": "execute_result"
    },
    {
     "data": {
      "image/png": "[encoded data removed]",
      "text/plain": [
       "<Figure size 640x480 with 2 Axes>"
      ]
     },
     "metadata": {},
     "output_type": "display_data"
    }
   ],
   "source": [
    "#Matrix de Confusión del modelo\n",
    "\n",
    "cm=confusion_matrix(Y_test,Prediccion)\n",
    "disp=metrics.ConfusionMatrixDisplay(confusion_matrix=cm)\n",
    "disp.plot()"
   ]
  },
  {
   "cell_type": "code",
   "execution_count": 160,
   "id": "cd432fab-375d-4d22-b23e-88fecee2ee2b",
   "metadata": {},
   "outputs": [
    {
     "data": {
      "image/png": "[encoded data removed]",
      "text/plain": [
       "<Figure size 640x480 with 1 Axes>"
      ]
     },
     "metadata": {},
     "output_type": "display_data"
    }
   ],
   "source": [
    "# Curva de precisón del modelo\n",
    "from sklearn.ensemble import RandomForestClassifier  # Puedes cambiar por otro modelo si es necesario\n",
    "from sklearn.model_selection import train_test_split\n",
    "import matplotlib.pyplot as plt\n",
    "from sklearn.metrics import roc_curve\n",
    "\n",
    "# Dividir los datos en entrenamiento y prueba (asegúrate de que X y Y estén definidos)\n",
    "X_train, X_test, Y_train, Y_test = train_test_split(X, Y, test_size=0.2, random_state=42)\n",
    "\n",
    "# Definir y entrenar el modelo\n",
    "model = RandomForestClassifier()\n",
    "model.fit(X_train, Y_train)  # Entrenar el modelo\n",
    "\n",
    "# Obtener las probabilidades en lugar de etiquetas\n",
    "Prediccion = model.predict_proba(X_test)\n",
    "\n",
    "# Seleccionar una clase específica (por ejemplo, la clase \"1\")\n",
    "y_binario = (Y_test == 1).astype(int)\n",
    "\n",
    "# Usar la probabilidad de pertenencia a la clase 1\n",
    "fpr, tpr, _ = roc_curve(y_binario, Prediccion[:, 1])\n",
    "\n",
    "# Graficar la curva ROC\n",
    "plt.plot(fpr, tpr, label=\"ROC curve for class 1\")\n",
    "plt.xlabel(\"False Positive Rate\")\n",
    "plt.ylabel(\"True Positive Rate\")\n",
    "plt.title(\"Curva ROC\")\n",
    "plt.legend()\n",
    "plt.show()\n",
    "\n"
   ]
  },
  {
   "cell_type": "code",
   "execution_count": null,
   "id": "a8f63ab6-c62a-432d-810b-3e90f7cb91f4",
   "metadata": {},
   "outputs": [],
   "source": [
    "\n",
    "8. Interpretar, analizar y documentar los resultados obtenidos\n",
    "- glecemia en ayunas (fbs) 254 registros que tienen valores en cero lo que intepreta que la glucemia no se encuentra elevada\n",
    "- angina inducida por ejercicio (exangs) 200 registros en valor de cero lo que significa que no hubo presencia de angina inducida durante el ejercicio\n",
    "    lo puede puede interpretarse como riesgos cardiovasculares \n",
    "- tipo de dolor toracico (cp) 23 registros valor cero lo que signifca quer hay pacientes tienen un tipo de dlor toracico\n",
    "\n",
    "De la Matriz de Confusión podemos interpretar:\n",
    "\n",
    "Verdaderos negativos (TN) = 13\n",
    "Son las observaciones donde el modelo correctamente predijo falso, es decir, la condición \"sin enfermedad\"\n",
    "fue correctamente identificada\n",
    "\n",
    "Verdaderos positivos (TP) = 2\n",
    "Son los casos en los que el modelo correctamente clasificó como Verdadero, es decir, aquellos pacientes con enfermedad\n",
    "que fueron identificados correctamente.\n",
    "\n",
    "Falsos positivos (FP) = 4\n",
    "Son observaciones en las que el modelo predijo incorrectamente como \"con enfermedad\" cuando en realidad no lo estaban.\n",
    "Esto puede llevar a falsos diagnósticos.\n",
    "\n",
    "Falsos negativos (FN) = 6\n",
    "Son casos donde el modelo clasificó incorrectamente como \"sin enfermedad\", cuando en realidad sí tenían la condición.\n",
    "Esto es preocupante, pues podría significar que el modelo no está detectando algunos casos críticos de enfermedad.\n",
    "\n",
    "\n"
   ]
  },
  {
   "cell_type": "code",
   "execution_count": null,
   "id": "0cc34cba-d947-42d0-b277-e9635e6fd57a",
   "metadata": {},
   "outputs": [],
   "source": [
    "De la curva de precisión del modelo se puede interpretar:\n",
    "\n",
    "analiza su habilidad para diferencia entre pacientes enfermos y sanos"
   ]
  },
  {
   "cell_type": "code",
   "execution_count": null,
   "id": "4c4b76e2-b0b7-4361-a65d-09f041254042",
   "metadata": {},
   "outputs": [],
   "source": []
  }
 ],
 "metadata": {
  "kernelspec": {
   "display_name": "Python [conda env:base] *",
   "language": "python",
   "name": "conda-base-py"
  },
  "language_info": {
   "codemirror_mode": {
    "name": "ipython",
    "version": 3
   },
   "file_extension": ".py",
   "mimetype": "text/x-python",
   "name": "python",
   "nbconvert_exporter": "python",
   "pygments_lexer": "ipython3",
   "version": "3.12.7"
  }
 },
 "nbformat": 4,
 "nbformat_minor": 5
}
